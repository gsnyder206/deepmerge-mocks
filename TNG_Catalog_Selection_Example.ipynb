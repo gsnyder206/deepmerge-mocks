{
 "cells": [
  {
   "cell_type": "code",
   "execution_count": 1,
   "metadata": {},
   "outputs": [],
   "source": [
    "import astropy\n",
    "import astropy.io.ascii as ascii"
   ]
  },
  {
   "cell_type": "code",
   "execution_count": 2,
   "metadata": {},
   "outputs": [],
   "source": [
    "data_010=ascii.read('tng_snap91_mstar9.5.txt')  #z=0.10\n",
    "data_005=ascii.read('tng_snap95_mstar9.5.txt')  #z=0.05\n",
    "data_000=ascii.read('tng_snap99_mstar9.5.txt')  #z=0.00"
   ]
  },
  {
   "cell_type": "code",
   "execution_count": 3,
   "metadata": {},
   "outputs": [
    {
     "data": {
      "text/html": [
       "<i>Table length=10805</i>\n",
       "<table id=\"table140309613086424\" class=\"table-striped table-bordered table-condensed\">\n",
       "<thead><tr><th>Snap</th><th>SubfindID</th><th>redshift</th><th>Mstar</th><th>SFR</th><th>IsCentral</th></tr></thead>\n",
       "<thead><tr><th>int64</th><th>int64</th><th>float64</th><th>float64</th><th>float64</th><th>int64</th></tr></thead>\n",
       "<tr><td>91</td><td>0</td><td>0.0994</td><td>1510661000000.0</td><td>0.6124</td><td>1</td></tr>\n",
       "<tr><td>91</td><td>1</td><td>0.0994</td><td>537802400000.0</td><td>29.1029</td><td>0</td></tr>\n",
       "<tr><td>91</td><td>2</td><td>0.0994</td><td>271407300000.0</td><td>0.457</td><td>0</td></tr>\n",
       "<tr><td>91</td><td>3</td><td>0.0994</td><td>167363100000.0</td><td>0.0</td><td>0</td></tr>\n",
       "<tr><td>91</td><td>4</td><td>0.0994</td><td>91419370000.0</td><td>0.0</td><td>0</td></tr>\n",
       "<tr><td>91</td><td>5</td><td>0.0994</td><td>105521200000.0</td><td>0.0</td><td>0</td></tr>\n",
       "<tr><td>91</td><td>6</td><td>0.0994</td><td>156570500000.0</td><td>0.0</td><td>0</td></tr>\n",
       "<tr><td>91</td><td>7</td><td>0.0994</td><td>144991400000.0</td><td>0.0291</td><td>0</td></tr>\n",
       "<tr><td>91</td><td>8</td><td>0.0994</td><td>90825260000.0</td><td>0.0</td><td>0</td></tr>\n",
       "<tr><td>91</td><td>9</td><td>0.0994</td><td>118276200000.0</td><td>0.0</td><td>0</td></tr>\n",
       "<tr><td>...</td><td>...</td><td>...</td><td>...</td><td>...</td><td>...</td></tr>\n",
       "<tr><td>91</td><td>650937</td><td>0.0994</td><td>4104565000.0</td><td>0.0561</td><td>1</td></tr>\n",
       "<tr><td>91</td><td>654791</td><td>0.0994</td><td>7534479000.0</td><td>0.0</td><td>1</td></tr>\n",
       "<tr><td>91</td><td>658618</td><td>0.0994</td><td>3791999000.0</td><td>0.095</td><td>1</td></tr>\n",
       "<tr><td>91</td><td>661909</td><td>0.0994</td><td>4633757000.0</td><td>0.4511</td><td>1</td></tr>\n",
       "<tr><td>91</td><td>663784</td><td>0.0994</td><td>3302339000.0</td><td>0.0872</td><td>1</td></tr>\n",
       "<tr><td>91</td><td>665023</td><td>0.0994</td><td>3168844000.0</td><td>0.0165</td><td>1</td></tr>\n",
       "<tr><td>91</td><td>667356</td><td>0.0994</td><td>4726465000.0</td><td>0.0</td><td>1</td></tr>\n",
       "<tr><td>91</td><td>703385</td><td>0.0994</td><td>5283450000.0</td><td>0.0</td><td>1</td></tr>\n",
       "<tr><td>91</td><td>710837</td><td>0.0994</td><td>4236649000.0</td><td>0.0</td><td>1</td></tr>\n",
       "<tr><td>91</td><td>744316</td><td>0.0994</td><td>3528871000.0</td><td>0.0</td><td>1</td></tr>\n",
       "</table>"
      ],
      "text/plain": [
       "<Table length=10805>\n",
       " Snap SubfindID redshift      Mstar        SFR   IsCentral\n",
       "int64   int64   float64      float64     float64   int64  \n",
       "----- --------- -------- --------------- ------- ---------\n",
       "   91         0   0.0994 1510661000000.0  0.6124         1\n",
       "   91         1   0.0994  537802400000.0 29.1029         0\n",
       "   91         2   0.0994  271407300000.0   0.457         0\n",
       "   91         3   0.0994  167363100000.0     0.0         0\n",
       "   91         4   0.0994   91419370000.0     0.0         0\n",
       "   91         5   0.0994  105521200000.0     0.0         0\n",
       "   91         6   0.0994  156570500000.0     0.0         0\n",
       "   91         7   0.0994  144991400000.0  0.0291         0\n",
       "   91         8   0.0994   90825260000.0     0.0         0\n",
       "   91         9   0.0994  118276200000.0     0.0         0\n",
       "  ...       ...      ...             ...     ...       ...\n",
       "   91    650937   0.0994    4104565000.0  0.0561         1\n",
       "   91    654791   0.0994    7534479000.0     0.0         1\n",
       "   91    658618   0.0994    3791999000.0   0.095         1\n",
       "   91    661909   0.0994    4633757000.0  0.4511         1\n",
       "   91    663784   0.0994    3302339000.0  0.0872         1\n",
       "   91    665023   0.0994    3168844000.0  0.0165         1\n",
       "   91    667356   0.0994    4726465000.0     0.0         1\n",
       "   91    703385   0.0994    5283450000.0     0.0         1\n",
       "   91    710837   0.0994    4236649000.0     0.0         1\n",
       "   91    744316   0.0994    3528871000.0     0.0         1"
      ]
     },
     "execution_count": 3,
     "metadata": {},
     "output_type": "execute_result"
    }
   ],
   "source": [
    "data"
   ]
  },
  {
   "cell_type": "code",
   "execution_count": null,
   "metadata": {},
   "outputs": [],
   "source": []
  }
 ],
 "metadata": {
  "kernelspec": {
   "display_name": "Python 3",
   "language": "python",
   "name": "python3"
  },
  "language_info": {
   "codemirror_mode": {
    "name": "ipython",
    "version": 3
   },
   "file_extension": ".py",
   "mimetype": "text/x-python",
   "name": "python",
   "nbconvert_exporter": "python",
   "pygments_lexer": "ipython3",
   "version": "3.6.12"
  }
 },
 "nbformat": 4,
 "nbformat_minor": 4
}
