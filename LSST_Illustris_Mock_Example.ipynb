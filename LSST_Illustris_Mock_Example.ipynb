{
 "cells": [
  {
   "cell_type": "code",
   "execution_count": null,
   "metadata": {},
   "outputs": [],
   "source": [
    "#NOTE: Before Starting, you must register at www.tng-project.org/data and obtain an API key\n",
    "#Edit the file \"load_api_key.py\" with your API key\n",
    "#Then, add it to .gitignore (\"echo load_api_key.py > .gitignore\") before committing any changes.\n",
    "\n",
    "import tng_api_utils as tau\n",
    "import matplotlib\n",
    "import matplotlib.pyplot as pyplot\n",
    "%matplotlib inline\n",
    "print(tau.__file__)"
   ]
  },
  {
   "cell_type": "code",
   "execution_count": null,
   "metadata": {},
   "outputs": [],
   "source": [
    "#obtain pristine mock image from IllustrisTNG data release\n",
    "#specify simulation\n",
    "sim='TNG100-1'\n",
    "#specify snapshot (redshift) and galaxy id (aka SubFind ID or sfid)\n",
    "#we can select catalogs of these two quantities to iterate over to prepare new training sets\n",
    "#not the fastest thing in the world, but super easy\n",
    "snap=99\n",
    "sfid=10\n",
    "\n",
    "filter_key='stellarBand-ps1_g'\n",
    "\n",
    "mag=tau.get_subhalo_magnitude(sim=sim,snap=snap,sfid=sfid,partField=filter_key)\n",
    "print(mag)\n",
    "\n",
    "#size = size in kpc\n",
    "image_size=100\n",
    "effective_redshift=0.05\n",
    "kpc_per_arcsec = tau.tngcos.kpc_proper_per_arcmin(effective_redshift).value/60\n",
    "lsst_pix_size=0.2 #arcsec\n",
    "n_pix=np.int32((image_size/kpc_per_arcsec)/lsst_pix_size)\n",
    "\n",
    "pristine_hdu=tau.get_subhalo_mockdata_as_fits(sim=sim,snap=snap,sfid=sfid,partField=filter_key,\n",
    "                                              nPixels=n_pix,\n",
    "                                              size=image_size,sizeType='kpc',\n",
    "                                              distmod=tau.tngcos.distmod(effective_redshift).value)\n",
    "mag=-2.5*np.log10((1.0e-9)*np.sum(pristine_hdu.data)/3631.0)\n",
    "print(mag)\n",
    "\n",
    "\n",
    "#useful, related utility:\n",
    "#snap_dict = tau.get(tau.baseUrl+'/'+sim+'/snapshots/'+str(snap))\n",
    "#redshift=snap_dict['redshift']\n"
   ]
  },
  {
   "cell_type": "code",
   "execution_count": null,
   "metadata": {},
   "outputs": [],
   "source": [
    "pyplot.imshow(np.log10(pristine_hdu.data+1.0))"
   ]
  },
  {
   "cell_type": "code",
   "execution_count": null,
   "metadata": {},
   "outputs": [],
   "source": [
    "#convolve with simple PSF model\n",
    "psf_hdu=tau.convolve_with_fwhm(pristine_hdu,fwhm_arcsec=0.15)"
   ]
  },
  {
   "cell_type": "code",
   "execution_count": null,
   "metadata": {},
   "outputs": [],
   "source": [
    "#add simple noise model\n",
    "psfnoise_hdu=tau.add_simple_noise_extractedsn(psf_hdu,extractedsn=20)"
   ]
  },
  {
   "cell_type": "code",
   "execution_count": null,
   "metadata": {},
   "outputs": [],
   "source": [
    "#visualize\n",
    "pyplot.imshow(psfnoise_hdu.data)"
   ]
  },
  {
   "cell_type": "code",
   "execution_count": null,
   "metadata": {},
   "outputs": [],
   "source": [
    "#save data\n",
    "pri=fits.PrimaryHDU(pristine_hdu.data,header=pristine_hdu.header)\n",
    "hdulist=fits.HDUList([pri,psf_hdu,psfnoise_hdu])\n",
    "hdulist.writeto('tng_example_mock.fits')"
   ]
  },
  {
   "cell_type": "code",
   "execution_count": null,
   "metadata": {},
   "outputs": [],
   "source": [
    "#After this step is probably when you would want to resize/reshape before feeding to CNNs..."
   ]
  },
  {
   "cell_type": "code",
   "execution_count": null,
   "metadata": {},
   "outputs": [],
   "source": []
  }
 ],
 "metadata": {
  "kernelspec": {
   "display_name": "Python 3",
   "language": "python",
   "name": "python3"
  },
  "language_info": {
   "codemirror_mode": {
    "name": "ipython",
    "version": 3
   },
   "file_extension": ".py",
   "mimetype": "text/x-python",
   "name": "python",
   "nbconvert_exporter": "python",
   "pygments_lexer": "ipython3",
   "version": "3.6.12"
  }
 },
 "nbformat": 4,
 "nbformat_minor": 4
}
